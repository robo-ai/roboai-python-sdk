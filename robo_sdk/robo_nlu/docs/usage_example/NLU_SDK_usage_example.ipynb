{
 "cells": [
  {
   "cell_type": "code",
   "execution_count": 1,
   "metadata": {},
   "outputs": [],
   "source": [
    "# import the RoboNLU SDK class\n",
    "\n",
    "from robo_sdk import RoboNLU"
   ]
  },
  {
   "cell_type": "code",
   "execution_count": 2,
   "metadata": {},
   "outputs": [],
   "source": [
    "# initialize a client by setting up the NLU Service url and the necessary credentials\n",
    " \n",
    "client = RoboNLU(base_endpoint=\"http://127.0.0.1:8000\", username=\"user\", password=\"bestpassword\") "
   ]
  },
  {
   "cell_type": "code",
   "execution_count": 3,
   "metadata": {},
   "outputs": [],
   "source": [
    "# locally intantiate a model by generating a model object\n",
    "\n",
    "model = client.model()"
   ]
  },
  {
   "cell_type": "code",
   "execution_count": 4,
   "metadata": {},
   "outputs": [
    {
     "name": "stdout",
     "output_type": "stream",
     "text": [
      "None\n"
     ]
    }
   ],
   "source": [
    "# by default the uuid of a model is None, which is the default needed to create a new model instance. \n",
    "\n",
    "model_uuid = model.get_model\n",
    "\n",
    "print(model_uuid)"
   ]
  },
  {
   "cell_type": "code",
   "execution_count": 5,
   "metadata": {},
   "outputs": [
    {
     "name": "stdout",
     "output_type": "stream",
     "text": [
      "\u001b[0;31mSignature:\u001b[0m \u001b[0mclient\u001b[0m\u001b[0;34m.\u001b[0m\u001b[0mmodel\u001b[0m\u001b[0;34m(\u001b[0m\u001b[0mmodel_uuid\u001b[0m\u001b[0;34m:\u001b[0m \u001b[0mstr\u001b[0m \u001b[0;34m=\u001b[0m \u001b[0;32mNone\u001b[0m\u001b[0;34m)\u001b[0m\u001b[0;34m\u001b[0m\u001b[0;34m\u001b[0m\u001b[0m\n",
      "\u001b[0;31mDocstring:\u001b[0m\n",
      "Instantiates a local model intance. If no uuid is passed as argument, the instance is void and ready to \n",
      "create a nem model instance within configured the NLU Service API.\n",
      "           \n",
      "arguments: - model_uuid: str, existing model_uuid string. To be used when access to existing model is required.\n",
      "\n",
      "returns:   - a NLUResources() instantiated object.\n",
      "\u001b[0;31mFile:\u001b[0m      ~/anaconda3/envs/roboSDK/lib/python3.8/site-packages/robo_sdk/robo_nlu/robo_nlu.py\n",
      "\u001b[0;31mType:\u001b[0m      method\n"
     ]
    }
   ],
   "source": [
    "# You can interact with an existing model by passing it's uuid as a parameter in the previous method.\n",
    "\n",
    "?client.model"
   ]
  },
  {
   "cell_type": "code",
   "execution_count": 6,
   "metadata": {},
   "outputs": [
    {
     "name": "stdout",
     "output_type": "stream",
     "text": [
      "\u001b[0;31mSignature:\u001b[0m \u001b[0mmodel\u001b[0m\u001b[0;34m.\u001b[0m\u001b[0mcreate\u001b[0m\u001b[0;34m(\u001b[0m\u001b[0mlanguage\u001b[0m\u001b[0;34m:\u001b[0m \u001b[0mstr\u001b[0m\u001b[0;34m)\u001b[0m\u001b[0;34m\u001b[0m\u001b[0;34m\u001b[0m\u001b[0m\n",
      "\u001b[0;31mDocstring:\u001b[0m\n",
      "Method to create a model object within the NLU API service.\n",
      "Note that if the object's model_uuid attribute is not None, this method is not effective, and returns None.\n",
      "\n",
      "arguments: - language: str, a 2 char code for the language that characterizes the model.\n",
      "\n",
      "returns:   - CreateResponse() object (based upon a pydantic BaseModel).\n",
      "        or\n",
      "           - None,  if object's model_uuid is not None.\n",
      "\u001b[0;31mFile:\u001b[0m      ~/anaconda3/envs/roboSDK/lib/python3.8/site-packages/robo_sdk/robo_nlu/resources/nlu_resources.py\n",
      "\u001b[0;31mType:\u001b[0m      method\n"
     ]
    }
   ],
   "source": [
    "# Using the create model's create method, a new model instance is setup within the API.\n",
    "\n",
    "?model.create"
   ]
  },
  {
   "cell_type": "code",
   "execution_count": 7,
   "metadata": {},
   "outputs": [
    {
     "data": {
      "text/plain": [
       "CreateResponse(timestamp='04/27/2022, 11:38:27', content=CreateContent(model_uuid='51024a12-ed09-497a-8629-237ed0c4ea1f', job_status=<Status.NEW: 'NEW'>))"
      ]
     },
     "execution_count": 7,
     "metadata": {},
     "output_type": "execute_result"
    }
   ],
   "source": [
    "# This returns a Pydantic based model object, allowing for easy parsing.\n",
    " \n",
    "model.create(\"en\")"
   ]
  },
  {
   "cell_type": "code",
   "execution_count": 8,
   "metadata": {},
   "outputs": [
    {
     "data": {
      "text/plain": [
       "'51024a12-ed09-497a-8629-237ed0c4ea1f'"
      ]
     },
     "execution_count": 8,
     "metadata": {},
     "output_type": "execute_result"
    }
   ],
   "source": [
    "# The uuid of the newly created instance can be retrieved accessing the object's get_model property.\n",
    "\n",
    "model.get_model"
   ]
  },
  {
   "cell_type": "code",
   "execution_count": 9,
   "metadata": {},
   "outputs": [],
   "source": [
    "# This is just a some dummy data to exemplify the train method.\n",
    "\n",
    "data ={\n",
    "  \"nlu\": [\n",
    "    {\n",
    "      \"intent\": \"Greeting\",\n",
    "      \"examples\": [\n",
    "        \"Hi\",\n",
    "        \"Hello\",\n",
    "        \"Howdy\",\n",
    "        \"Bonjour\",\n",
    "        \"Ça va bien?\"\n",
    "      ]\n",
    "    },\n",
    "    {\n",
    "      \"intent\": \"Bye\",\n",
    "      \"examples\": [\n",
    "        \"Good bye\",\n",
    "        \"Bye bye\",\n",
    "        \"Au revoir\",\n",
    "        \"C U\"\n",
    "      ]\n",
    "    },\n",
    "    {\n",
    "      \"lookup\": \"Language\",\n",
    "      \"examples\": [\n",
    "        \"PT\",\n",
    "        \"ENG\"\n",
    "      ]\n",
    "    },\n",
    "    {\n",
    "      \"regex\": \"door_number\",\n",
    "      \"examples\": [\n",
    "        \"(\\\\W|^)po[#\\\\-]{0,1}\\\\s{0,1}\\\\d{2}[\\\\s-]{0,1}\\\\d{4}(\\\\W|$)\"\n",
    "      ]\n",
    "    }\n",
    "  ]\n",
    "}"
   ]
  },
  {
   "cell_type": "code",
   "execution_count": 10,
   "metadata": {},
   "outputs": [],
   "source": [
    "# Tou can train a model by passing loaded data in dict format as above.\n",
    "\n",
    "train_response = model.train(data) "
   ]
  },
  {
   "cell_type": "code",
   "execution_count": 11,
   "metadata": {},
   "outputs": [
    {
     "data": {
      "text/plain": [
       "TrainResponse(timestamp='04/27/2022, 11:38:36', content=TrainContent(job_status=<Status.TRAINING: 'TRAINING'>))"
      ]
     },
     "execution_count": 11,
     "metadata": {},
     "output_type": "execute_result"
    }
   ],
   "source": [
    "# or train a model by referencing a nlu.yaml filepath in Rasa 3 format.\n",
    "\n",
    "train_response = model.train(\"./nlu.yaml\")\n",
    "train_response"
   ]
  },
  {
   "cell_type": "code",
   "execution_count": 12,
   "metadata": {},
   "outputs": [
    {
     "data": {
      "text/plain": [
       "StatusResponse(timestamp='04/27/2022, 11:39:12', content=StatusContent(job_status=<Status.READY: 'READY'>))"
      ]
     },
     "execution_count": 12,
     "metadata": {},
     "output_type": "execute_result"
    }
   ],
   "source": [
    "# At anytime you can call the status method to know the status of the created model instance.\n",
    "\n",
    "model.status() "
   ]
  },
  {
   "cell_type": "code",
   "execution_count": 13,
   "metadata": {},
   "outputs": [
    {
     "name": "stdout",
     "output_type": "stream",
     "text": [
      "\u001b[0;31mSignature:\u001b[0m \u001b[0mmodel\u001b[0m\u001b[0;34m.\u001b[0m\u001b[0mmetrics\u001b[0m\u001b[0;34m(\u001b[0m\u001b[0;34m)\u001b[0m\u001b[0;34m\u001b[0m\u001b[0;34m\u001b[0m\u001b[0m\n",
      "\u001b[0;31mDocstring:\u001b[0m\n",
      "Method to retrieve the status of model object within the NLU API service. \n",
      "\n",
      "arguments: No arguments are required.\n",
      "\n",
      "returns:   - MetricsResponse() object (based upon a pydantic BaseModel).\n",
      "\u001b[0;31mFile:\u001b[0m      ~/anaconda3/envs/roboSDK/lib/python3.8/site-packages/robo_sdk/robo_nlu/resources/nlu_resources.py\n",
      "\u001b[0;31mType:\u001b[0m      method\n"
     ]
    }
   ],
   "source": [
    "# If model evaluation was requested upon training, then the resulting metrics are available by the\n",
    "# metrics method when the model's status is READY.\n",
    "\n",
    "?model.metrics"
   ]
  },
  {
   "cell_type": "code",
   "execution_count": 14,
   "metadata": {},
   "outputs": [],
   "source": [
    "# Predictions are made by the predict model method, obtaining a PredictResponse object as result.\n",
    "\n",
    "predict_response_object= model.predict(json_data={\"text\":\"Hello and goodbye\"})"
   ]
  },
  {
   "cell_type": "code",
   "execution_count": 15,
   "metadata": {},
   "outputs": [
    {
     "data": {
      "text/plain": [
       "{'timestamp': ModelField(name='timestamp', type=str, required=True),\n",
       " 'content': ModelField(name='content', type=PredictContent, required=True)}"
      ]
     },
     "execution_count": 15,
     "metadata": {},
     "output_type": "execute_result"
    }
   ],
   "source": [
    "# The response from predict allows for easy content parsing\n",
    "\n",
    "predict_response_object.__fields__"
   ]
  },
  {
   "cell_type": "code",
   "execution_count": 16,
   "metadata": {},
   "outputs": [
    {
     "data": {
      "text/plain": [
       "PredictContent(intents=[IntentResponseBody(name='Bye', confidence=0.9892255663871765), IntentResponseBody(name='Greeting', confidence=0.010774398222565651)], entities=[])"
      ]
     },
     "execution_count": 16,
     "metadata": {},
     "output_type": "execute_result"
    }
   ],
   "source": [
    "predict_response_object.content"
   ]
  },
  {
   "cell_type": "code",
   "execution_count": 17,
   "metadata": {},
   "outputs": [
    {
     "name": "stdout",
     "output_type": "stream",
     "text": [
      "Intent 'Bye' predicted with 0.989 confidence\n",
      "Intent 'Greeting' predicted with 0.011 confidence\n"
     ]
    }
   ],
   "source": [
    "content = predict_response_object.content\n",
    "for intent in content.intents:\n",
    "    print(f\"Intent '{intent.name}' predicted with {intent.confidence:.3f} confidence\")"
   ]
  },
  {
   "cell_type": "code",
   "execution_count": 18,
   "metadata": {},
   "outputs": [
    {
     "data": {
      "text/plain": [
       "[]"
      ]
     },
     "execution_count": 18,
     "metadata": {},
     "output_type": "execute_result"
    }
   ],
   "source": [
    "predict_response_object.content.entities"
   ]
  },
  {
   "cell_type": "code",
   "execution_count": 19,
   "metadata": {},
   "outputs": [
    {
     "data": {
      "text/plain": [
       "DeleteResponse(timestamp='04/27/2022, 11:39:33', content=DeleteContent(model_uuid='51024a12-ed09-497a-8629-237ed0c4ea1f'))"
      ]
     },
     "execution_count": 19,
     "metadata": {},
     "output_type": "execute_result"
    }
   ],
   "source": [
    "# When your done with your model, you can delete from the API\n",
    "\n",
    "model.delete()"
   ]
  }
 ],
 "metadata": {
  "interpreter": {
   "hash": "33712eeb2995d8ee1b6d2f6306ed9eac0bb57d44215c3dd3391ea04bf9e34fa6"
  },
  "kernelspec": {
   "display_name": "Python 3.8.13 ('roboSDK')",
   "language": "python",
   "name": "python3"
  },
  "language_info": {
   "codemirror_mode": {
    "name": "ipython",
    "version": 3
   },
   "file_extension": ".py",
   "mimetype": "text/x-python",
   "name": "python",
   "nbconvert_exporter": "python",
   "pygments_lexer": "ipython3",
   "version": "3.8.13"
  }
 },
 "nbformat": 4,
 "nbformat_minor": 2
}
