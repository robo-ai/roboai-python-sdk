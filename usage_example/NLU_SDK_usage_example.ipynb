{
 "cells": [
  {
   "cell_type": "code",
   "execution_count": 1,
   "metadata": {},
   "outputs": [],
   "source": [
    "from robo_sdk import RoboNLU"
   ]
  },
  {
   "cell_type": "code",
   "execution_count": null,
   "metadata": {},
   "outputs": [],
   "source": [
    "client=RoboNLU(base_endpoint=\"http://127.0.0.1:8000\", username=\"user\", password=\"bestpassword\") "
   ]
  },
  {
   "cell_type": "code",
   "execution_count": null,
   "metadata": {},
   "outputs": [],
   "source": [
    "model = client.model()"
   ]
  },
  {
   "cell_type": "code",
   "execution_count": null,
   "metadata": {},
   "outputs": [],
   "source": [
    "model_uuid = model.get_model\n",
    "\n",
    "print(model_uuid)"
   ]
  },
  {
   "cell_type": "code",
   "execution_count": null,
   "metadata": {},
   "outputs": [],
   "source": [
    "?model.create"
   ]
  },
  {
   "cell_type": "code",
   "execution_count": null,
   "metadata": {},
   "outputs": [],
   "source": [
    "model.create(\"en\")"
   ]
  },
  {
   "cell_type": "code",
   "execution_count": null,
   "metadata": {},
   "outputs": [],
   "source": [
    "model.get_model"
   ]
  },
  {
   "cell_type": "code",
   "execution_count": null,
   "metadata": {},
   "outputs": [],
   "source": [
    "?model.train"
   ]
  },
  {
   "cell_type": "code",
   "execution_count": null,
   "metadata": {},
   "outputs": [],
   "source": [
    "data ={\n",
    "  \"nlu\": [\n",
    "    {\n",
    "      \"intent\": \"Greeting\",\n",
    "      \"examples\": [\n",
    "        \"Hi\",\n",
    "        \"Hello\",\n",
    "        \"Howdy\",\n",
    "        \"Bonjour\",\n",
    "        \"Ça va bien?\"\n",
    "      ]\n",
    "    },\n",
    "    {\n",
    "      \"intent\": \"Bye\",\n",
    "      \"examples\": [\n",
    "        \"Good bye\",\n",
    "        \"Bye bye\",\n",
    "        \"Au revoir\",\n",
    "        \"C U\"\n",
    "      ]\n",
    "    },\n",
    "    {\n",
    "      \"lookup\": \"Language\",\n",
    "      \"examples\": [\n",
    "        \"PT\",\n",
    "        \"ENG\"\n",
    "      ]\n",
    "    },\n",
    "    {\n",
    "      \"regex\": \"door_number\",\n",
    "      \"examples\": [\n",
    "        \"(\\\\W|^)po[#\\\\-]{0,1}\\\\s{0,1}\\\\d{2}[\\\\s-]{0,1}\\\\d{4}(\\\\W|$)\"\n",
    "      ]\n",
    "    }\n",
    "  ]\n",
    "}"
   ]
  },
  {
   "cell_type": "code",
   "execution_count": null,
   "metadata": {},
   "outputs": [],
   "source": [
    "# train a model passing loaded data in dict\n",
    "train_response = model.train(data) "
   ]
  },
  {
   "cell_type": "code",
   "execution_count": null,
   "metadata": {},
   "outputs": [],
   "source": [
    "# or train a model by referencing a nlu.yaml filepath in rasa 3 format\n",
    "train_response = model.train(\"./nlu.yaml\")"
   ]
  },
  {
   "cell_type": "code",
   "execution_count": null,
   "metadata": {},
   "outputs": [],
   "source": [
    "model.response = model.status() \n",
    "\n",
    "model.response"
   ]
  },
  {
   "cell_type": "code",
   "execution_count": null,
   "metadata": {},
   "outputs": [],
   "source": [
    "?model.metrics"
   ]
  },
  {
   "cell_type": "code",
   "execution_count": null,
   "metadata": {},
   "outputs": [],
   "source": [
    "predict_response_object= model.predict(json_data={\"text\":\"Hello and goodbye\"})"
   ]
  },
  {
   "cell_type": "code",
   "execution_count": null,
   "metadata": {},
   "outputs": [],
   "source": [
    "predict_response_object.__fields__"
   ]
  },
  {
   "cell_type": "code",
   "execution_count": null,
   "metadata": {},
   "outputs": [],
   "source": [
    "predict_response_object.content"
   ]
  },
  {
   "cell_type": "code",
   "execution_count": null,
   "metadata": {},
   "outputs": [],
   "source": [
    "model.delete()"
   ]
  },
  {
   "cell_type": "code",
   "execution_count": null,
   "metadata": {},
   "outputs": [],
   "source": []
  }
 ],
 "metadata": {
  "interpreter": {
   "hash": "33712eeb2995d8ee1b6d2f6306ed9eac0bb57d44215c3dd3391ea04bf9e34fa6"
  },
  "kernelspec": {
   "display_name": "Python 3.8.13 ('roboSDK')",
   "language": "python",
   "name": "python3"
  },
  "language_info": {
   "codemirror_mode": {
    "name": "ipython",
    "version": 3
   },
   "file_extension": ".py",
   "mimetype": "text/x-python",
   "name": "python",
   "nbconvert_exporter": "python",
   "pygments_lexer": "ipython3",
   "version": "3.8.13"
  }
 },
 "nbformat": 4,
 "nbformat_minor": 2
}
