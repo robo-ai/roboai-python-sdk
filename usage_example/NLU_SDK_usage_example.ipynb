{
 "cells": [
  {
   "cell_type": "code",
   "execution_count": 1,
   "metadata": {},
   "outputs": [],
   "source": [
    "from robo_sdk import RoboNLU"
   ]
  },
  {
   "cell_type": "code",
   "execution_count": 2,
   "metadata": {},
   "outputs": [],
   "source": [
    "client=RoboNLU(base_endpoint=\"http://127.0.0.1:8000\", username=\"user\", password=\"bestpassword\") #,model_uuid='ad6602c0-96e1-4eb6-a953-196ed7cb10e7')"
   ]
  },
  {
   "cell_type": "code",
   "execution_count": 3,
   "metadata": {},
   "outputs": [],
   "source": [
    "model = client.model()"
   ]
  },
  {
   "cell_type": "code",
   "execution_count": 4,
   "metadata": {},
   "outputs": [
    {
     "name": "stdout",
     "output_type": "stream",
     "text": [
      "None\n"
     ]
    }
   ],
   "source": [
    "model_uuid = model.get_model\n",
    "\n",
    "print(model_uuid)"
   ]
  },
  {
   "cell_type": "code",
   "execution_count": 5,
   "metadata": {},
   "outputs": [],
   "source": [
    "model = client.model(model_uuid=model_uuid)"
   ]
  },
  {
   "cell_type": "code",
   "execution_count": 6,
   "metadata": {},
   "outputs": [
    {
     "name": "stdout",
     "output_type": "stream",
     "text": [
      "\u001b[0;31mSignature:\u001b[0m \u001b[0mmodel\u001b[0m\u001b[0;34m.\u001b[0m\u001b[0mcreate\u001b[0m\u001b[0;34m(\u001b[0m\u001b[0mlanguage\u001b[0m\u001b[0;34m:\u001b[0m \u001b[0mstr\u001b[0m\u001b[0;34m)\u001b[0m\u001b[0;34m\u001b[0m\u001b[0;34m\u001b[0m\u001b[0m\n",
      "\u001b[0;31mDocstring:\u001b[0m\n",
      "Method to create a model object within the NLU API service.\n",
      "Note that if the object's model_uuid attribute is not None, this method is not effective, and returns None.\n",
      "\n",
      "arguments: - language: str, a 2 char code for the language that characterizes the model.\n",
      "\n",
      "returns:   - CreateResponse() object (based upon a pydantic BaseModel).\n",
      "        or\n",
      "           - None,  if object's model_uuid is not None.\n",
      "\u001b[0;31mFile:\u001b[0m      ~/Desktop/robo_sdk/roboai-python-sdk/robo_sdk/robo_nlu/resources/nlu_resources.py\n",
      "\u001b[0;31mType:\u001b[0m      method\n"
     ]
    }
   ],
   "source": [
    "?model.create"
   ]
  },
  {
   "cell_type": "code",
   "execution_count": 7,
   "metadata": {},
   "outputs": [
    {
     "data": {
      "text/plain": [
       "CreateResponse(timestamp='04/22/2022, 16:42:56', content=CreateContent(model_uuid='77a63030-5c65-4025-8110-8e643c18f594', job_status=<Status.NEW: 'NEW'>))"
      ]
     },
     "execution_count": 7,
     "metadata": {},
     "output_type": "execute_result"
    }
   ],
   "source": [
    "model.create(\"en\")"
   ]
  },
  {
   "cell_type": "code",
   "execution_count": 8,
   "metadata": {},
   "outputs": [
    {
     "name": "stdout",
     "output_type": "stream",
     "text": [
      "\u001b[0;31mSignature:\u001b[0m\n",
      "\u001b[0mmodel\u001b[0m\u001b[0;34m.\u001b[0m\u001b[0mtrain\u001b[0m\u001b[0;34m(\u001b[0m\u001b[0;34m\u001b[0m\n",
      "\u001b[0;34m\u001b[0m    \u001b[0mjson_data\u001b[0m\u001b[0;34m:\u001b[0m \u001b[0mUnion\u001b[0m\u001b[0;34m[\u001b[0m\u001b[0mdict\u001b[0m\u001b[0;34m,\u001b[0m \u001b[0mstr\u001b[0m\u001b[0;34m]\u001b[0m\u001b[0;34m,\u001b[0m\u001b[0;34m\u001b[0m\n",
      "\u001b[0;34m\u001b[0m    \u001b[0mmodel_eval\u001b[0m\u001b[0;34m:\u001b[0m \u001b[0mbool\u001b[0m \u001b[0;34m=\u001b[0m \u001b[0;32mFalse\u001b[0m\u001b[0;34m,\u001b[0m\u001b[0;34m\u001b[0m\n",
      "\u001b[0;34m\u001b[0m    \u001b[0mmax_allowed_error_number\u001b[0m\u001b[0;34m:\u001b[0m \u001b[0mint\u001b[0m \u001b[0;34m=\u001b[0m \u001b[0;36m3\u001b[0m\u001b[0;34m,\u001b[0m\u001b[0;34m\u001b[0m\n",
      "\u001b[0;34m\u001b[0m    \u001b[0mmin_word_length\u001b[0m\u001b[0;34m:\u001b[0m \u001b[0mint\u001b[0m \u001b[0;34m=\u001b[0m \u001b[0;36m3\u001b[0m\u001b[0;34m,\u001b[0m\u001b[0;34m\u001b[0m\n",
      "\u001b[0;34m\u001b[0m\u001b[0;34m)\u001b[0m\u001b[0;34m\u001b[0m\u001b[0;34m\u001b[0m\u001b[0m\n",
      "\u001b[0;31mDocstring:\u001b[0m\n",
      "Method to train a model object within the NLU API service. The data used to train the model can be a memory loaded dict object with \n",
      "the same format as expected by the API:\n",
      "\n",
      "data example: \n",
      "    {\n",
      "        \"nlu\": [\n",
      "            {\"intent\": \"Greeting\", \"examples\": [\"Hi\",\"Hello\",\"Howdy\",\"Bonjour\",\"Ça va bien?\"]},\n",
      "            {\"intent\": \"Bye\", \"examples\": [\"Good bye\",\"Bye bye\", \"Au revoir\",\"C U\"]},\n",
      "            {\"lookup\": \"Language\", \"examples\":[\"PT\",\"ENG\"]},\n",
      "            {\"regex\": \"door_number\", \"examples\":[\"(\\W|^)po[#\\-]{0,1}\\s{0,1}\\d{2}[\\s-]{0,1}\\d{4}(\\W|$)\"]}\n",
      "\n",
      "            ]\n",
      "    }\n",
      "\n",
      "or, if a string path reference is passed to a RASA v3 yaml file, the data is loaded into memory from the file. \n",
      "\n",
      "arguments: - json_data: dict, holding the training data in the required format, see example above.\n",
      "                        or\n",
      "                        str, a string reference path to a yaml Rasa v3 file, holding the training data.\n",
      "\n",
      "           - model_eval: bool (optional), a Boolean flag to preform the model evaluation tasks before training the data.\n",
      "                         Optional as defaults to False.\n",
      "\n",
      "           - max_allowed_error_number: int (optional), an integer number that controls the number of allowed errors in the lookup \n",
      "                                       entity extraction, allowing for fuzzy matching of strings.\n",
      "\n",
      "           - min_word_length: int (optional), an integer number that controls the minimum word length above witch fuzz matching is\n",
      "                              allowed.\n",
      "\n",
      "note: For a more comprehensive understanding of NER fuzzy matching, please refer to the NLU API swagger documentation\n",
      "\n",
      "returns:   - TrainResponse() object (based upon a pydantic BaseModel).\n",
      "\u001b[0;31mFile:\u001b[0m      ~/Desktop/robo_sdk/roboai-python-sdk/robo_sdk/robo_nlu/resources/nlu_resources.py\n",
      "\u001b[0;31mType:\u001b[0m      method\n"
     ]
    }
   ],
   "source": [
    "?model.train"
   ]
  },
  {
   "cell_type": "code",
   "execution_count": 9,
   "metadata": {},
   "outputs": [],
   "source": [
    "data ={\n",
    "  \"nlu\": [\n",
    "    {\n",
    "      \"intent\": \"Greeting\",\n",
    "      \"examples\": [\n",
    "        \"Hi\",\n",
    "        \"Hello\",\n",
    "        \"Howdy\",\n",
    "        \"Bonjour\",\n",
    "        \"Ça va bien?\"\n",
    "      ]\n",
    "    },\n",
    "    {\n",
    "      \"intent\": \"Bye\",\n",
    "      \"examples\": [\n",
    "        \"Good bye\",\n",
    "        \"Bye bye\",\n",
    "        \"Au revoir\",\n",
    "        \"C U\"\n",
    "      ]\n",
    "    },\n",
    "    {\n",
    "      \"lookup\": \"Language\",\n",
    "      \"examples\": [\n",
    "        \"PT\",\n",
    "        \"ENG\"\n",
    "      ]\n",
    "    },\n",
    "    {\n",
    "      \"regex\": \"door_number\",\n",
    "      \"examples\": [\n",
    "        \"(\\\\W|^)po[#\\\\-]{0,1}\\\\s{0,1}\\\\d{2}[\\\\s-]{0,1}\\\\d{4}(\\\\W|$)\"\n",
    "      ]\n",
    "    }\n",
    "  ]\n",
    "}"
   ]
  },
  {
   "cell_type": "code",
   "execution_count": 10,
   "metadata": {},
   "outputs": [],
   "source": [
    "train_response = model.train(data) # passing loaded data in dict\n",
    "\n",
    "# or\n",
    "\n",
    "train_response = model.train(\"./nlu.yaml\") # passing a filepath in a str"
   ]
  },
  {
   "cell_type": "code",
   "execution_count": 15,
   "metadata": {},
   "outputs": [
    {
     "data": {
      "text/plain": [
       "StatusResponse(timestamp='04/22/2022, 16:43:39', content=StatusContent(job_status=<Status.READY: 'READY'>))"
      ]
     },
     "execution_count": 15,
     "metadata": {},
     "output_type": "execute_result"
    }
   ],
   "source": [
    "model.status() #model.response = "
   ]
  },
  {
   "cell_type": "code",
   "execution_count": 16,
   "metadata": {},
   "outputs": [
    {
     "name": "stdout",
     "output_type": "stream",
     "text": [
      "\u001b[0;31mSignature:\u001b[0m \u001b[0mmodel\u001b[0m\u001b[0;34m.\u001b[0m\u001b[0mmetrics\u001b[0m\u001b[0;34m(\u001b[0m\u001b[0;34m)\u001b[0m\u001b[0;34m\u001b[0m\u001b[0;34m\u001b[0m\u001b[0m\n",
      "\u001b[0;31mDocstring:\u001b[0m\n",
      "Method to retrieve the status of model object within the NLU API service. \n",
      "\n",
      "arguments: No arguments are required.\n",
      "\n",
      "returns:   - MetricsResponse() object (based upon a pydantic BaseModel).\n",
      "\u001b[0;31mFile:\u001b[0m      ~/Desktop/robo_sdk/roboai-python-sdk/robo_sdk/robo_nlu/resources/nlu_resources.py\n",
      "\u001b[0;31mType:\u001b[0m      method\n"
     ]
    }
   ],
   "source": [
    "?model.metrics"
   ]
  },
  {
   "cell_type": "code",
   "execution_count": 19,
   "metadata": {},
   "outputs": [],
   "source": [
    "predict_response_object= model.predict(json_data={\"text\":\"Hello and goodbye\"})"
   ]
  },
  {
   "cell_type": "code",
   "execution_count": 20,
   "metadata": {},
   "outputs": [
    {
     "data": {
      "text/plain": [
       "{'timestamp': ModelField(name='timestamp', type=str, required=True),\n",
       " 'content': ModelField(name='content', type=PredictContent, required=True)}"
      ]
     },
     "execution_count": 20,
     "metadata": {},
     "output_type": "execute_result"
    }
   ],
   "source": [
    "predict_response_object.__fields__"
   ]
  },
  {
   "cell_type": "code",
   "execution_count": 21,
   "metadata": {},
   "outputs": [
    {
     "data": {
      "text/plain": [
       "PredictContent(intents=[IntentResponseBody(name='Greeting', confidence=0.9405839443206787), IntentResponseBody(name='Bye', confidence=0.059416115283966064)], entities=[])"
      ]
     },
     "execution_count": 21,
     "metadata": {},
     "output_type": "execute_result"
    }
   ],
   "source": [
    "predict_response_object.content"
   ]
  },
  {
   "cell_type": "code",
   "execution_count": 22,
   "metadata": {},
   "outputs": [
    {
     "data": {
      "text/plain": [
       "DeleteResponse(timestamp='04/22/2022, 16:44:22', content=DeleteContent(model_uuid='77a63030-5c65-4025-8110-8e643c18f594'))"
      ]
     },
     "execution_count": 22,
     "metadata": {},
     "output_type": "execute_result"
    }
   ],
   "source": [
    "model.delete()"
   ]
  },
  {
   "cell_type": "code",
   "execution_count": null,
   "metadata": {},
   "outputs": [],
   "source": []
  }
 ],
 "metadata": {
  "interpreter": {
   "hash": "33712eeb2995d8ee1b6d2f6306ed9eac0bb57d44215c3dd3391ea04bf9e34fa6"
  },
  "kernelspec": {
   "display_name": "Python 3 (ipykernel)",
   "language": "python",
   "name": "python3"
  },
  "language_info": {
   "codemirror_mode": {
    "name": "ipython",
    "version": 3
   },
   "file_extension": ".py",
   "mimetype": "text/x-python",
   "name": "python",
   "nbconvert_exporter": "python",
   "pygments_lexer": "ipython3",
   "version": "3.8.13"
  }
 },
 "nbformat": 4,
 "nbformat_minor": 2
}
